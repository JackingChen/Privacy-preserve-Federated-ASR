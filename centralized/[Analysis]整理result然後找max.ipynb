{
 "cells": [
  {
   "cell_type": "code",
   "execution_count": 2,
   "metadata": {},
   "outputs": [
    {
     "name": "stdout",
     "output_type": "stream",
     "text": [
      "                                                    accuracy  macro_avg_f1\n",
      "0207_DM_SentenceLvl2inputHomogeneous/en_mbert_s...   0.63125      0.443101\n",
      "0207_DM_SentenceLvl1input/en_test                    0.58250      0.491779\n",
      "0207_DM_SentenceLvl1input/xlm_sentence_test          0.64625      0.634909\n",
      "0207_DM_SentenceLvl1input/xlm-roberta-base_test      0.65250      0.394856\n",
      "0207_DM_SentenceLvl1input/albert-base-v1_test        0.75500      0.729871\n",
      "0207_DM_SentenceLvl1input/multi_test                 0.59125      0.489612\n",
      "0207_DM_SentenceLvl1input/mbert_sentence_test        0.73750      0.724149\n",
      "0207_DM_SessionLvl1input/mbert_session_test          0.62500      0.384615\n"
     ]
    }
   ],
   "source": [
    "import os\n",
    "import pandas as pd\n",
    "Result_path = \"/mnt/External/Seagate/FedASR/LLaMa2/dacs/result\"\n",
    "\n",
    "# 創建一個字典來存儲每個子目錄下的檔案清單\n",
    "categorized_files = {'test': [], 'test_pred': [], 'val': [], 'val_pred': []}\n",
    "\n",
    "# 遍歷 result 目錄下的所有檔案\n",
    "for root, dirs, files in os.walk(Result_path):\n",
    "    for file in files:\n",
    "        if file.endswith('.csv'):\n",
    "            \n",
    "            file_name, file_extension = os.path.splitext(file)\n",
    "            subdir = os.path.basename(root)\n",
    "            \n",
    "            if file.endswith('test.csv'):\n",
    "                categorized_files['test'].append(os.path.join(subdir, file))\n",
    "            elif file.endswith('test_pred.csv'):\n",
    "                categorized_files['test_pred'].append(os.path.join(subdir, file))\n",
    "            elif file.endswith('val.csv'):\n",
    "                categorized_files['val'].append(os.path.join(subdir, file))\n",
    "            elif file.endswith('val_pred.csv'):\n",
    "                categorized_files['val_pred'].append(os.path.join(subdir, file))\n",
    "\n",
    "result_df = pd.DataFrame()\n",
    "for file in categorized_files['test']:\n",
    "    df = pd.read_csv(f'{Result_path}/{file}', index_col=0)\n",
    "\n",
    "    file_name = os.path.splitext(file)[0]  # 去掉附檔名\n",
    "    accuracy = df.loc['accuracy', 'f1-score']\n",
    "    macro_avg_f1 = df.loc['macro avg', 'f1-score']\n",
    "\n",
    "    # 將資訊加入新的 DataFrame\n",
    "    result_df.loc[file_name, 'accuracy'] = accuracy\n",
    "    result_df.loc[file_name, 'macro_avg_f1'] = macro_avg_f1\n",
    "\n",
    "print(result_df)\n",
    "Output_path=\"/mnt/External/Seagate/FedASR/LLaMa2/dacs/Analysis\"\n",
    "os.makedirs(Output_path, exist_ok=True)\n",
    "result_df.to_csv(f\"{Output_path}/Summary_acc-macroagf1.csv\")"
   ]
  },
  {
   "cell_type": "code",
   "execution_count": null,
   "metadata": {},
   "outputs": [],
   "source": []
  }
 ],
 "metadata": {
  "kernelspec": {
   "display_name": "openai",
   "language": "python",
   "name": "python3"
  },
  "language_info": {
   "codemirror_mode": {
    "name": "ipython",
    "version": 3
   },
   "file_extension": ".py",
   "mimetype": "text/x-python",
   "name": "python",
   "nbconvert_exporter": "python",
   "pygments_lexer": "ipython3",
   "version": "3.10.13"
  }
 },
 "nbformat": 4,
 "nbformat_minor": 2
}
