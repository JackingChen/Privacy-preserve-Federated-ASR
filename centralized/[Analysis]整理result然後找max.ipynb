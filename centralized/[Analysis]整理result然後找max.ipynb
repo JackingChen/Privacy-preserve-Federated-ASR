{
 "cells": [
  {
   "cell_type": "code",
   "execution_count": 10,
   "metadata": {},
   "outputs": [
    {
     "name": "stdout",
     "output_type": "stream",
     "text": [
      "                                                    accuracy  macro_avg_f1\n",
      "0207_DM_SessionLvltext/0101_1837_DM_MM_mbert_en...  0.500000      0.333333\n",
      "0207_DM_SessionLvltext/0101_1727_DM_MM_mbert_en...  0.583333      0.368421\n",
      "0207_DM_SessionLvltext/0101_1906_DM_MM_xlm_en_test  0.750000      0.748252\n",
      "0207_DM_SessionLvltext/0101_1838_DM_MM_mbert_en...  0.416667      0.294118\n",
      "0207_DM_SentenceLvltext/0101_1724_DM_MM_mbert_e...  0.755000      0.719672\n",
      "0207_DM_SentenceLvltext/0101_1902_DM_MM_xlm_en_...  0.750000      0.742560\n",
      "0207_DM_SentenceLvltext/0101_1834_DM_MM_mbert_e...  0.715000      0.662312\n",
      "0207_DM_SessionLvlSimilarityEmb/0101_2018_DM_MM...  0.625000      0.384615\n",
      "0207_DM_SessionLvlSimilarityEmb/0101_2031_DM_MM...  0.583333      0.368421\n",
      "0207_DM_SessionLvlSimilarityEmb/0101_2027_DM_MM...  0.583333      0.368421\n",
      "0207_DM_SentenceLvlmulti/0101_0941_DM_MM_mbert_...  0.645000      0.547064\n",
      "0207_DM_SentenceLvlmulti/0101_0951_DM_MM_xlm_en...  0.695000      0.653793\n",
      "0207_DM_SessionLvlSummary/0101_1910_DM_MM_xlm_e...  0.583333      0.368421\n",
      "0207_DM_SessionLvlSummary/0101_1841_DM_MM_mbert...  0.500000      0.333333\n",
      "0207_DM_SessionLvlSummary/0101_1731_DM_MM_mbert...  0.500000      0.333333\n",
      "0207_DM_SessionLvltextnSummary/0101_1942_DM_MM_...  0.500000      0.833333\n",
      "0207_DM_SessionLvltextnSummary/0101_1733_DM_MM_...  0.500000      0.333333\n",
      "0207_DM_SessionLvltextnSummary/0101_1842_DM_MM_...  0.833333      0.454545\n"
     ]
    }
   ],
   "source": [
    "import os\n",
    "import pandas as pd\n",
    "Result_path = \"/mnt/External/Seagate/FedASR/LLaMa2/dacs/result\"\n",
    "\n",
    "# 創建一個字典來存儲每個子目錄下的檔案清單\n",
    "categorized_files = {'test': [], 'test_pred': [], 'val': [], 'val_pred': []}\n",
    "\n",
    "# 遍歷 result 目錄下的所有檔案\n",
    "for root, dirs, files in os.walk(Result_path):\n",
    "    for file in files:\n",
    "        if file.endswith('.csv'):\n",
    "            \n",
    "            file_name, file_extension = os.path.splitext(file)\n",
    "            subdir = os.path.basename(root)\n",
    "            \n",
    "            if file.endswith('test.csv'):\n",
    "                categorized_files['test'].append(os.path.join(subdir, file))\n",
    "            elif file.endswith('test_pred.csv'):\n",
    "                categorized_files['test_pred'].append(os.path.join(subdir, file))\n",
    "            elif file.endswith('val.csv'):\n",
    "                categorized_files['val'].append(os.path.join(subdir, file))\n",
    "            elif file.endswith('val_pred.csv'):\n",
    "                categorized_files['val_pred'].append(os.path.join(subdir, file))\n",
    "\n",
    "result_df = pd.DataFrame()\n",
    "for file in categorized_files['test']:\n",
    "    df = pd.read_csv(f'{Result_path}/{file}', index_col=0)\n",
    "\n",
    "    file_name = os.path.splitext(file)[0]  # 去掉附檔名\n",
    "    accuracy = df.loc['accuracy', 'f1-score']\n",
    "    macro_avg_f1 = df.loc['macro avg', 'f1-score']\n",
    "\n",
    "    # 將資訊加入新的 DataFrame\n",
    "    result_df.loc[file_name, 'accuracy'] = accuracy\n",
    "    result_df.loc[file_name, 'macro_avg_f1'] = macro_avg_f1\n",
    "\n",
    "print(result_df)\n",
    "Output_path=\"/mnt/External/Seagate/FedASR/LLaMa2/dacs/Analysis\"\n",
    "os.makedirs(Output_path, exist_ok=True)\n",
    "result_df.to_csv(f\"{Output_path}/Summary_acc-macroagf1.csv\")"
   ]
  },
  {
   "cell_type": "code",
   "execution_count": 9,
   "metadata": {},
   "outputs": [
    {
     "name": "stdout",
     "output_type": "stream",
     "text": [
      "                                                    accuracy  macro_avg_f1\n",
      "0207_DM_SessionLvltext/0101_1837_DM_MM_mbert_en...  0.500000      0.333333\n",
      "0207_DM_SessionLvltext/0101_1727_DM_MM_mbert_en...  0.583333      0.368421\n",
      "0207_DM_SessionLvltext/0101_1906_DM_MM_xlm_en_test  0.750000      0.748252\n",
      "0207_DM_SessionLvltext/0101_1838_DM_MM_mbert_en...  0.416667      0.294118\n",
      "0207_DM_SentenceLvltext/0101_1724_DM_MM_mbert_e...  0.755000      0.719672\n",
      "0207_DM_SentenceLvltext/0101_1902_DM_MM_xlm_en_...  0.750000      0.742560\n",
      "0207_DM_SentenceLvltext/0101_1834_DM_MM_mbert_e...  0.715000      0.662312\n",
      "0207_DM_SessionLvlSimilarityEmb/0101_2018_DM_MM...  0.625000      0.384615\n",
      "0207_DM_SessionLvlSimilarityEmb/0101_2031_DM_MM...  0.583333      0.368421\n",
      "0207_DM_SessionLvlSimilarityEmb/0101_2027_DM_MM...  0.583333      0.368421\n",
      "0207_DM_SentenceLvlmulti/0101_0941_DM_MM_mbert_...  0.645000      0.547064\n",
      "0207_DM_SentenceLvlmulti/0101_0951_DM_MM_xlm_en...  0.695000      0.653793\n",
      "0207_DM_SessionLvlSummary/0101_1910_DM_MM_xlm_e...  0.583333      0.368421\n",
      "0207_DM_SessionLvlSummary/0101_1841_DM_MM_mbert...  0.500000      0.333333\n",
      "0207_DM_SessionLvlSummary/0101_1731_DM_MM_mbert...  0.500000      0.333333\n",
      "0207_DM_SessionLvltextnSummary/0101_1942_DM_MM_...  0.500000      0.833333\n",
      "0207_DM_SessionLvltextnSummary/0101_1733_DM_MM_...  0.500000      0.333333\n",
      "0207_DM_SessionLvltextnSummary/0101_1842_DM_MM_...  0.833333      0.454545\n"
     ]
    }
   ],
   "source": []
  }
 ],
 "metadata": {
  "kernelspec": {
   "display_name": "openai",
   "language": "python",
   "name": "python3"
  },
  "language_info": {
   "codemirror_mode": {
    "name": "ipython",
    "version": 3
   },
   "file_extension": ".py",
   "mimetype": "text/x-python",
   "name": "python",
   "nbconvert_exporter": "python",
   "pygments_lexer": "ipython3",
   "version": "3.10.13"
  }
 },
 "nbformat": 4,
 "nbformat_minor": 2
}
