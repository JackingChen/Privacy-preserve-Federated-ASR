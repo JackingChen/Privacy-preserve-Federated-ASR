{
 "cells": [
  {
   "cell_type": "code",
   "execution_count": 10,
   "metadata": {},
   "outputs": [],
   "source": [
    "import pickle\n",
    "import pandas as pd\n",
    "import os\n",
    "import argparse\n",
    "parser = argparse.ArgumentParser()\n",
    "parser.add_argument('--file_path', type=str, default='', help=\"[text | pred_str]\")\n",
    "args = parser.parse_args(args=[])\n",
    "\n",
    "file_path=args.file_path\n",
    "filename=os.path.basename(file_path)\n",
    "# output_root=os.path.dirname(file_path)\n",
    "output_root=\"/home/FedASR/dacs/centralized/saves/results/\"\n",
    "\n",
    "train_file=\"/home/FedASR/dacs/centralized/saves/results/data2vec-audio-large-960h_train.csv\"\n",
    "dev_file=\"/home/FedASR/dacs/centralized/saves/results/data2vec-audio-large-960h_dev.csv\"\n",
    "test_file=\"/home/FedASR/dacs/centralized/saves/results/data2vec-audio-large-960h_test.csv\"\n",
    "\n",
    "df_train = pd.read_csv(train_file)\n",
    "df_dev = pd.read_csv(dev_file)\n",
    "df_test = pd.read_csv(test_file)\n",
    "df_train['ex']='train'\n",
    "df_dev['ex']='dev'\n",
    "df_test['ex']='test'\n",
    "\n",
    "df_total=pd.concat([df_train,df_dev,df_test],axis=0)\n",
    "\n",
    "output_csv_path = f'{output_root}/data2vec-audio-large-960h_total.csv'\n",
    "df_total.to_csv(output_csv_path, index=False)\n",
    "\n",
    "\n"
   ]
  },
  {
   "cell_type": "code",
   "execution_count": null,
   "metadata": {},
   "outputs": [],
   "source": []
  }
 ],
 "metadata": {
  "kernelspec": {
   "display_name": "openai",
   "language": "python",
   "name": "python3"
  },
  "language_info": {
   "codemirror_mode": {
    "name": "ipython",
    "version": 3
   },
   "file_extension": ".py",
   "mimetype": "text/x-python",
   "name": "python",
   "nbconvert_exporter": "python",
   "pygments_lexer": "ipython3",
   "version": "3.10.13"
  }
 },
 "nbformat": 4,
 "nbformat_minor": 2
}
